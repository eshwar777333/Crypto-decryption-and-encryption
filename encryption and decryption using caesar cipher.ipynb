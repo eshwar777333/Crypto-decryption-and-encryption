{
 "cells": [
  {
   "cell_type": "code",
   "execution_count": null,
   "id": "d02d57aa",
   "metadata": {},
   "outputs": [],
   "source": [
    "from tkinter import *\n",
    "import tkinter as tk\n",
    "# Create an instance of tkinter frame or window\n",
    "window=Tk()\n",
    "# Set the size of the tkinter windowdow\n",
    "window.geometry(\"700x350\")\n",
    "window.title(\"PythonGeeks\")#give title to the window\n",
    "Label(window, text=\"Message Encryption Decryption\",bg='dark blue',fg='white', font=('Calibri 15')).pack()# a lable\n",
    "text=tk.StringVar()\n",
    "key=tk.IntVar()\n",
    "alphabets=\"abcdefghijklmnopqrstuvwxyz\"\n",
    "\n",
    "def encryption():\n",
    "    t=text.get()\n",
    "    k=key.get()\n",
    "    en=\"\"   \n",
    "\n",
    "    for letter in t:\n",
    "        new_position=(alphabets.find(letter)+k)%len(alphabets)\n",
    "        en+=alphabets[new_position]\n",
    "\n",
    "    Label(window,text=\"Encryption is:\",font=('Calibri 12')).pack()\n",
    "    Label(window,text=en,font=('Calibri 12'),bg='red').pack()\n",
    "\n",
    "def decryption():\n",
    "    t=text.get()\n",
    "    k=key.get()\n",
    "    de=\"\"   \n",
    "\n",
    "    for letter in t:\n",
    "        new_position=(alphabets.find(letter)-k)%len(alphabets)\n",
    "        de+=alphabets[new_position]\n",
    "\n",
    "    Label(window,text=\"Decryption is:\",font=('Calibri 12')).pack()\n",
    "    Label(window,text=de,font=('Calibri 12'),bg='red').pack()\n",
    "\n",
    "Label(window, text=\"Enter the letter to be encrypted:\", font=('Calibri 12')).pack()# a lable\n",
    "Entry(window,textvariable=text).pack()\n",
    "Label(window, text=\"Enter the key:\", font=('Calibri 12')).pack()# a lable\n",
    "Entry(window,textvariable=key).pack()\n",
    "\n",
    "Button(window,text=\"ENCRYPT\",bg='pink',command=encryption).pack()\n",
    "Button(window,text=\"DECRYPT\",bg='pink',command=decryption).pack()\n",
    "\n",
    "window.mainloop()"
   ]
  },
  {
   "cell_type": "code",
   "execution_count": null,
   "id": "3532d753",
   "metadata": {},
   "outputs": [],
   "source": []
  }
 ],
 "metadata": {
  "kernelspec": {
   "display_name": "Python 3 (ipykernel)",
   "language": "python",
   "name": "python3"
  },
  "language_info": {
   "codemirror_mode": {
    "name": "ipython",
    "version": 3
   },
   "file_extension": ".py",
   "mimetype": "text/x-python",
   "name": "python",
   "nbconvert_exporter": "python",
   "pygments_lexer": "ipython3",
   "version": "3.9.12"
  }
 },
 "nbformat": 4,
 "nbformat_minor": 5
}
